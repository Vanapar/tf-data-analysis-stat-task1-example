{
  "cells": [
    {
      "cell_type": "markdown",
      "metadata": {
        "id": "view-in-github",
        "colab_type": "text"
      },
      "source": [
        "<a href=\"https://colab.research.google.com/github/Vanapar/tf-data-analysis-stat-task1-example/blob/main/%D0%A8%D0%B0%D0%B1%D0%BB%D0%BE%D0%BD_%D0%B4%D0%BB%D1%8F_%D0%BF%D1%80%D0%BE%D0%B5%D0%BA%D1%82%D0%B0_%D0%BF%D0%BE_AB_%D1%82%D0%B5%D1%81%D1%82%D0%B0%D0%BC.ipynb\" target=\"_parent\"><img src=\"https://colab.research.google.com/assets/colab-badge.svg\" alt=\"Open In Colab\"/></a>"
      ]
    },
    {
      "cell_type": "markdown",
      "id": "96ac1922",
      "metadata": {
        "id": "96ac1922"
      },
      "source": [
        "# Шаблон для проекта по A/B - тестам."
      ]
    },
    {
      "cell_type": "markdown",
      "id": "e01e5ec9",
      "metadata": {
        "id": "e01e5ec9"
      },
      "source": [
        "### `chat_id ` из Телеграма:"
      ]
    },
    {
      "cell_type": "code",
      "source": [],
      "metadata": {
        "id": "Of7L1OK6jEKT"
      },
      "id": "Of7L1OK6jEKT",
      "execution_count": null,
      "outputs": []
    },
    {
      "cell_type": "markdown",
      "id": "1fb036f5",
      "metadata": {
        "id": "1fb036f5"
      },
      "source": [
        "------------------"
      ]
    },
    {
      "cell_type": "markdown",
      "id": "d8c6f14f",
      "metadata": {
        "id": "d8c6f14f"
      },
      "source": [
        "##  <ins>Задание 1.</ins>"
      ]
    },
    {
      "cell_type": "markdown",
      "source": [
        "### 0. Запосить у бота в Телеграме условие командой `/get_project1_desc`."
      ],
      "metadata": {
        "id": "cMi1ZWvej6zB"
      },
      "id": "cMi1ZWvej6zB"
    },
    {
      "cell_type": "markdown",
      "id": "0dd4c840",
      "metadata": {
        "id": "0dd4c840"
      },
      "source": [
        "### 1. Необходимо выбрать метрику и привести аргументацию."
      ]
    },
    {
      "cell_type": "markdown",
      "source": [
        "Я считаю, что здесь стоит применить метрику NPV, так как с помощью данной метрики можно оценить оба способа продажи, далее мы сравнивавем и получаем результат о выгоде от продаж."
      ],
      "metadata": {
        "id": "pQ0dwHqFzVCf"
      },
      "id": "pQ0dwHqFzVCf"
    },
    {
      "cell_type": "markdown",
      "id": "b644cd0a",
      "metadata": {
        "id": "b644cd0a"
      },
      "source": [
        "### 2. Альтернатива в критерии."
      ]
    },
    {
      "cell_type": "markdown",
      "source": [
        "Будем использовать одностороннюю альтернативу, так как нам нужно определить только разницу в прибыли, также мы уменьшаем вероятность ложноположительных результатов."
      ],
      "metadata": {
        "id": "fqKXz88b343G"
      },
      "id": "fqKXz88b343G"
    },
    {
      "cell_type": "markdown",
      "id": "727aefc4",
      "metadata": {
        "id": "727aefc4"
      },
      "source": [
        "### 3.1. Каков размер выборки? Привести аргументацию и написать как получилось то или иное число."
      ]
    },
    {
      "cell_type": "markdown",
      "source": [
        "Формула для односторонней альтернативы представлена ниже"
      ],
      "metadata": {
        "id": "Civ14B6W8ldh"
      },
      "id": "Civ14B6W8ldh"
    },
    {
      "cell_type": "markdown",
      "source": [
        "![Screenshot_1.png](data:image/png;base64,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)"
      ],
      "metadata": {
        "id": "P8lrhX0r8Nc2"
      },
      "id": "P8lrhX0r8Nc2"
    },
    {
      "cell_type": "markdown",
      "source": [
        "сиигма квадрат - выборочная дисперсия"
      ],
      "metadata": {
        "id": "fk26P8G58rQk"
      },
      "id": "fk26P8G58rQk"
    },
    {
      "cell_type": "markdown",
      "source": [
        "z - квантиль распределения"
      ],
      "metadata": {
        "id": "MPups-l082sG"
      },
      "id": "MPups-l082sG"
    },
    {
      "cell_type": "markdown",
      "source": [
        "d - MDE"
      ],
      "metadata": {
        "id": "wTXQWiU586CE"
      },
      "id": "wTXQWiU586CE"
    },
    {
      "cell_type": "code",
      "source": [
        "import pandas as pd\n",
        "from scipy import stats\n",
        "import seaborn as sns\n",
        "\n",
        "# Данные\n",
        "df = pd.read_csv('hist_telesales.csv', sep=',')\n",
        "\n",
        "# Данные из условия\n",
        "alpha = 0.05\n",
        "uplift = 0.05\n",
        "beta = 0.2 # 1 - 0.8\n",
        "\n",
        "# Среднее NPV\n",
        "npv_mean = df.NPV.mean() #281.45\n",
        "\n",
        "# Минимальный ожидаемый эффект — это наименьший истинный эффект полученный от изменений, \n",
        "# который с уверенностью сможет обнаружить статистический критерий.\n",
        "mde = uplift * npv_mean # 14.07\n",
        "\n",
        "# Дисперсия\n",
        "var = df.NPV.var() # 459229.7\n",
        "\n",
        "# Размер выборки:\n",
        "n = (2 * var * (stats.norm.ppf(0.95) - stats.norm.ppf(0.2))**2) / mde ** 2 # 2867"
      ],
      "metadata": {
        "id": "mmtzDf5q9HZe",
        "outputId": "19792376-ef7f-4ff0-cd7d-25dca37af0b7",
        "colab": {
          "base_uri": "https://localhost:8080/",
          "height": 415
        }
      },
      "id": "mmtzDf5q9HZe",
      "execution_count": 2,
      "outputs": [
        {
          "output_type": "error",
          "ename": "FileNotFoundError",
          "evalue": "ignored",
          "traceback": [
            "\u001b[0;31m---------------------------------------------------------------------------\u001b[0m",
            "\u001b[0;31mFileNotFoundError\u001b[0m                         Traceback (most recent call last)",
            "\u001b[0;32m<ipython-input-2-f2fd24bafb96>\u001b[0m in \u001b[0;36m<cell line: 6>\u001b[0;34m()\u001b[0m\n\u001b[1;32m      4\u001b[0m \u001b[0;34m\u001b[0m\u001b[0m\n\u001b[1;32m      5\u001b[0m \u001b[0;31m# Данные\u001b[0m\u001b[0;34m\u001b[0m\u001b[0;34m\u001b[0m\u001b[0m\n\u001b[0;32m----> 6\u001b[0;31m \u001b[0mdf\u001b[0m \u001b[0;34m=\u001b[0m \u001b[0mpd\u001b[0m\u001b[0;34m.\u001b[0m\u001b[0mread_csv\u001b[0m\u001b[0;34m(\u001b[0m\u001b[0;34m'hist_telesales.csv'\u001b[0m\u001b[0;34m,\u001b[0m \u001b[0msep\u001b[0m\u001b[0;34m=\u001b[0m\u001b[0;34m','\u001b[0m\u001b[0;34m)\u001b[0m\u001b[0;34m\u001b[0m\u001b[0;34m\u001b[0m\u001b[0m\n\u001b[0m\u001b[1;32m      7\u001b[0m \u001b[0;34m\u001b[0m\u001b[0m\n\u001b[1;32m      8\u001b[0m \u001b[0;31m# Данные из условия\u001b[0m\u001b[0;34m\u001b[0m\u001b[0;34m\u001b[0m\u001b[0m\n",
            "\u001b[0;32m/usr/local/lib/python3.10/dist-packages/pandas/util/_decorators.py\u001b[0m in \u001b[0;36mwrapper\u001b[0;34m(*args, **kwargs)\u001b[0m\n\u001b[1;32m    209\u001b[0m                 \u001b[0;32melse\u001b[0m\u001b[0;34m:\u001b[0m\u001b[0;34m\u001b[0m\u001b[0;34m\u001b[0m\u001b[0m\n\u001b[1;32m    210\u001b[0m                     \u001b[0mkwargs\u001b[0m\u001b[0;34m[\u001b[0m\u001b[0mnew_arg_name\u001b[0m\u001b[0;34m]\u001b[0m \u001b[0;34m=\u001b[0m \u001b[0mnew_arg_value\u001b[0m\u001b[0;34m\u001b[0m\u001b[0;34m\u001b[0m\u001b[0m\n\u001b[0;32m--> 211\u001b[0;31m             \u001b[0;32mreturn\u001b[0m \u001b[0mfunc\u001b[0m\u001b[0;34m(\u001b[0m\u001b[0;34m*\u001b[0m\u001b[0margs\u001b[0m\u001b[0;34m,\u001b[0m \u001b[0;34m**\u001b[0m\u001b[0mkwargs\u001b[0m\u001b[0;34m)\u001b[0m\u001b[0;34m\u001b[0m\u001b[0;34m\u001b[0m\u001b[0m\n\u001b[0m\u001b[1;32m    212\u001b[0m \u001b[0;34m\u001b[0m\u001b[0m\n\u001b[1;32m    213\u001b[0m         \u001b[0;32mreturn\u001b[0m \u001b[0mcast\u001b[0m\u001b[0;34m(\u001b[0m\u001b[0mF\u001b[0m\u001b[0;34m,\u001b[0m \u001b[0mwrapper\u001b[0m\u001b[0;34m)\u001b[0m\u001b[0;34m\u001b[0m\u001b[0;34m\u001b[0m\u001b[0m\n",
            "\u001b[0;32m/usr/local/lib/python3.10/dist-packages/pandas/util/_decorators.py\u001b[0m in \u001b[0;36mwrapper\u001b[0;34m(*args, **kwargs)\u001b[0m\n\u001b[1;32m    329\u001b[0m                     \u001b[0mstacklevel\u001b[0m\u001b[0;34m=\u001b[0m\u001b[0mfind_stack_level\u001b[0m\u001b[0;34m(\u001b[0m\u001b[0;34m)\u001b[0m\u001b[0;34m,\u001b[0m\u001b[0;34m\u001b[0m\u001b[0;34m\u001b[0m\u001b[0m\n\u001b[1;32m    330\u001b[0m                 )\n\u001b[0;32m--> 331\u001b[0;31m             \u001b[0;32mreturn\u001b[0m \u001b[0mfunc\u001b[0m\u001b[0;34m(\u001b[0m\u001b[0;34m*\u001b[0m\u001b[0margs\u001b[0m\u001b[0;34m,\u001b[0m \u001b[0;34m**\u001b[0m\u001b[0mkwargs\u001b[0m\u001b[0;34m)\u001b[0m\u001b[0;34m\u001b[0m\u001b[0;34m\u001b[0m\u001b[0m\n\u001b[0m\u001b[1;32m    332\u001b[0m \u001b[0;34m\u001b[0m\u001b[0m\n\u001b[1;32m    333\u001b[0m         \u001b[0;31m# error: \"Callable[[VarArg(Any), KwArg(Any)], Any]\" has no\u001b[0m\u001b[0;34m\u001b[0m\u001b[0;34m\u001b[0m\u001b[0m\n",
            "\u001b[0;32m/usr/local/lib/python3.10/dist-packages/pandas/io/parsers/readers.py\u001b[0m in \u001b[0;36mread_csv\u001b[0;34m(filepath_or_buffer, sep, delimiter, header, names, index_col, usecols, squeeze, prefix, mangle_dupe_cols, dtype, engine, converters, true_values, false_values, skipinitialspace, skiprows, skipfooter, nrows, na_values, keep_default_na, na_filter, verbose, skip_blank_lines, parse_dates, infer_datetime_format, keep_date_col, date_parser, dayfirst, cache_dates, iterator, chunksize, compression, thousands, decimal, lineterminator, quotechar, quoting, doublequote, escapechar, comment, encoding, encoding_errors, dialect, error_bad_lines, warn_bad_lines, on_bad_lines, delim_whitespace, low_memory, memory_map, float_precision, storage_options)\u001b[0m\n\u001b[1;32m    948\u001b[0m     \u001b[0mkwds\u001b[0m\u001b[0;34m.\u001b[0m\u001b[0mupdate\u001b[0m\u001b[0;34m(\u001b[0m\u001b[0mkwds_defaults\u001b[0m\u001b[0;34m)\u001b[0m\u001b[0;34m\u001b[0m\u001b[0;34m\u001b[0m\u001b[0m\n\u001b[1;32m    949\u001b[0m \u001b[0;34m\u001b[0m\u001b[0m\n\u001b[0;32m--> 950\u001b[0;31m     \u001b[0;32mreturn\u001b[0m \u001b[0m_read\u001b[0m\u001b[0;34m(\u001b[0m\u001b[0mfilepath_or_buffer\u001b[0m\u001b[0;34m,\u001b[0m \u001b[0mkwds\u001b[0m\u001b[0;34m)\u001b[0m\u001b[0;34m\u001b[0m\u001b[0;34m\u001b[0m\u001b[0m\n\u001b[0m\u001b[1;32m    951\u001b[0m \u001b[0;34m\u001b[0m\u001b[0m\n\u001b[1;32m    952\u001b[0m \u001b[0;34m\u001b[0m\u001b[0m\n",
            "\u001b[0;32m/usr/local/lib/python3.10/dist-packages/pandas/io/parsers/readers.py\u001b[0m in \u001b[0;36m_read\u001b[0;34m(filepath_or_buffer, kwds)\u001b[0m\n\u001b[1;32m    603\u001b[0m \u001b[0;34m\u001b[0m\u001b[0m\n\u001b[1;32m    604\u001b[0m     \u001b[0;31m# Create the parser.\u001b[0m\u001b[0;34m\u001b[0m\u001b[0;34m\u001b[0m\u001b[0m\n\u001b[0;32m--> 605\u001b[0;31m     \u001b[0mparser\u001b[0m \u001b[0;34m=\u001b[0m \u001b[0mTextFileReader\u001b[0m\u001b[0;34m(\u001b[0m\u001b[0mfilepath_or_buffer\u001b[0m\u001b[0;34m,\u001b[0m \u001b[0;34m**\u001b[0m\u001b[0mkwds\u001b[0m\u001b[0;34m)\u001b[0m\u001b[0;34m\u001b[0m\u001b[0;34m\u001b[0m\u001b[0m\n\u001b[0m\u001b[1;32m    606\u001b[0m \u001b[0;34m\u001b[0m\u001b[0m\n\u001b[1;32m    607\u001b[0m     \u001b[0;32mif\u001b[0m \u001b[0mchunksize\u001b[0m \u001b[0;32mor\u001b[0m \u001b[0miterator\u001b[0m\u001b[0;34m:\u001b[0m\u001b[0;34m\u001b[0m\u001b[0;34m\u001b[0m\u001b[0m\n",
            "\u001b[0;32m/usr/local/lib/python3.10/dist-packages/pandas/io/parsers/readers.py\u001b[0m in \u001b[0;36m__init__\u001b[0;34m(self, f, engine, **kwds)\u001b[0m\n\u001b[1;32m   1440\u001b[0m \u001b[0;34m\u001b[0m\u001b[0m\n\u001b[1;32m   1441\u001b[0m         \u001b[0mself\u001b[0m\u001b[0;34m.\u001b[0m\u001b[0mhandles\u001b[0m\u001b[0;34m:\u001b[0m \u001b[0mIOHandles\u001b[0m \u001b[0;34m|\u001b[0m \u001b[0;32mNone\u001b[0m \u001b[0;34m=\u001b[0m \u001b[0;32mNone\u001b[0m\u001b[0;34m\u001b[0m\u001b[0;34m\u001b[0m\u001b[0m\n\u001b[0;32m-> 1442\u001b[0;31m         \u001b[0mself\u001b[0m\u001b[0;34m.\u001b[0m\u001b[0m_engine\u001b[0m \u001b[0;34m=\u001b[0m \u001b[0mself\u001b[0m\u001b[0;34m.\u001b[0m\u001b[0m_make_engine\u001b[0m\u001b[0;34m(\u001b[0m\u001b[0mf\u001b[0m\u001b[0;34m,\u001b[0m \u001b[0mself\u001b[0m\u001b[0;34m.\u001b[0m\u001b[0mengine\u001b[0m\u001b[0;34m)\u001b[0m\u001b[0;34m\u001b[0m\u001b[0;34m\u001b[0m\u001b[0m\n\u001b[0m\u001b[1;32m   1443\u001b[0m \u001b[0;34m\u001b[0m\u001b[0m\n\u001b[1;32m   1444\u001b[0m     \u001b[0;32mdef\u001b[0m \u001b[0mclose\u001b[0m\u001b[0;34m(\u001b[0m\u001b[0mself\u001b[0m\u001b[0;34m)\u001b[0m \u001b[0;34m->\u001b[0m \u001b[0;32mNone\u001b[0m\u001b[0;34m:\u001b[0m\u001b[0;34m\u001b[0m\u001b[0;34m\u001b[0m\u001b[0m\n",
            "\u001b[0;32m/usr/local/lib/python3.10/dist-packages/pandas/io/parsers/readers.py\u001b[0m in \u001b[0;36m_make_engine\u001b[0;34m(self, f, engine)\u001b[0m\n\u001b[1;32m   1733\u001b[0m                 \u001b[0;32mif\u001b[0m \u001b[0;34m\"b\"\u001b[0m \u001b[0;32mnot\u001b[0m \u001b[0;32min\u001b[0m \u001b[0mmode\u001b[0m\u001b[0;34m:\u001b[0m\u001b[0;34m\u001b[0m\u001b[0;34m\u001b[0m\u001b[0m\n\u001b[1;32m   1734\u001b[0m                     \u001b[0mmode\u001b[0m \u001b[0;34m+=\u001b[0m \u001b[0;34m\"b\"\u001b[0m\u001b[0;34m\u001b[0m\u001b[0;34m\u001b[0m\u001b[0m\n\u001b[0;32m-> 1735\u001b[0;31m             self.handles = get_handle(\n\u001b[0m\u001b[1;32m   1736\u001b[0m                 \u001b[0mf\u001b[0m\u001b[0;34m,\u001b[0m\u001b[0;34m\u001b[0m\u001b[0;34m\u001b[0m\u001b[0m\n\u001b[1;32m   1737\u001b[0m                 \u001b[0mmode\u001b[0m\u001b[0;34m,\u001b[0m\u001b[0;34m\u001b[0m\u001b[0;34m\u001b[0m\u001b[0m\n",
            "\u001b[0;32m/usr/local/lib/python3.10/dist-packages/pandas/io/common.py\u001b[0m in \u001b[0;36mget_handle\u001b[0;34m(path_or_buf, mode, encoding, compression, memory_map, is_text, errors, storage_options)\u001b[0m\n\u001b[1;32m    854\u001b[0m         \u001b[0;32mif\u001b[0m \u001b[0mioargs\u001b[0m\u001b[0;34m.\u001b[0m\u001b[0mencoding\u001b[0m \u001b[0;32mand\u001b[0m \u001b[0;34m\"b\"\u001b[0m \u001b[0;32mnot\u001b[0m \u001b[0;32min\u001b[0m \u001b[0mioargs\u001b[0m\u001b[0;34m.\u001b[0m\u001b[0mmode\u001b[0m\u001b[0;34m:\u001b[0m\u001b[0;34m\u001b[0m\u001b[0;34m\u001b[0m\u001b[0m\n\u001b[1;32m    855\u001b[0m             \u001b[0;31m# Encoding\u001b[0m\u001b[0;34m\u001b[0m\u001b[0;34m\u001b[0m\u001b[0m\n\u001b[0;32m--> 856\u001b[0;31m             handle = open(\n\u001b[0m\u001b[1;32m    857\u001b[0m                 \u001b[0mhandle\u001b[0m\u001b[0;34m,\u001b[0m\u001b[0;34m\u001b[0m\u001b[0;34m\u001b[0m\u001b[0m\n\u001b[1;32m    858\u001b[0m                 \u001b[0mioargs\u001b[0m\u001b[0;34m.\u001b[0m\u001b[0mmode\u001b[0m\u001b[0;34m,\u001b[0m\u001b[0;34m\u001b[0m\u001b[0;34m\u001b[0m\u001b[0m\n",
            "\u001b[0;31mFileNotFoundError\u001b[0m: [Errno 2] No such file or directory: 'hist_telesales.csv'"
          ]
        }
      ]
    },
    {
      "cell_type": "markdown",
      "id": "8df8ee73",
      "metadata": {
        "id": "8df8ee73"
      },
      "source": [
        "### 3.2. Необходимо запросить у бота в Телеграме выборку полученного размера командой `/get_project1_sample {размер выборки}` и вписать <ins>код выборки</ins>:"
      ]
    },
    {
      "cell_type": "code",
      "source": [],
      "metadata": {
        "id": "9vCrM3wcjM0H"
      },
      "id": "9vCrM3wcjM0H",
      "execution_count": null,
      "outputs": []
    },
    {
      "cell_type": "markdown",
      "id": "22e2d9b0",
      "metadata": {
        "id": "22e2d9b0"
      },
      "source": [
        "### 4. Принятие решения. Расписать подробно с аргументами."
      ]
    },
    {
      "cell_type": "code",
      "source": [],
      "metadata": {
        "id": "C9NO-_o3jON1"
      },
      "id": "C9NO-_o3jON1",
      "execution_count": null,
      "outputs": []
    },
    {
      "cell_type": "markdown",
      "id": "f9e15111",
      "metadata": {
        "id": "f9e15111"
      },
      "source": [
        "------------------"
      ]
    },
    {
      "cell_type": "markdown",
      "id": "7ea196b1",
      "metadata": {
        "id": "7ea196b1"
      },
      "source": [
        "##  <ins>Задание 2.</ins>"
      ]
    },
    {
      "cell_type": "markdown",
      "source": [
        "### 0. Запосить у бота в Телеграме условие командой `/get_project2_desc`."
      ],
      "metadata": {
        "id": "M0mI4jfTkCk6"
      },
      "id": "M0mI4jfTkCk6"
    },
    {
      "cell_type": "markdown",
      "source": [
        "Контекст\n",
        "ЦБ смягчило правило,\n",
        "ограничивающее варианты продажи услуги.\n",
        "Мы хотим попробовать\n",
        "более агрессивную продажу услуги,\n",
        "но боимся,\n",
        "что это повлияет на экономику основного продукта (КК)\n",
        "из-за негатива клиентов.\n",
        "\n",
        "Тест\n",
        "Мы проводим тест,\n",
        "в рамках которого мы разбиваем весь поток\n",
        "на две части рановероятно,\n",
        "где одной части (контролю) \n",
        "мы будем предлагать услугу текущим способом,\n",
        "а второй части (тесту) \n",
        "- новым более агрессивным способом.\n",
        "Целью этого теста \n",
        "является увеличение доходности КК + услуги.\n",
        "\n",
        "Статистические вводные\n",
        "Проверка однородности выбранного параметра\n",
        "осуществяется с уровнем значимости 2%.\n",
        "\n",
        "Уровень значимости 5%.\n",
        "Мы хотели бы различать 3%-ное\n",
        "изменение целевой метрики\n",
        "с вероятностью 85%."
      ],
      "metadata": {
        "id": "528vI7w5N4_w"
      },
      "id": "528vI7w5N4_w"
    },
    {
      "cell_type": "markdown",
      "id": "e4691844",
      "metadata": {
        "id": "e4691844"
      },
      "source": [
        "### 1. Необходимо выбрать метрику и привести аргументацию."
      ]
    },
    {
      "cell_type": "markdown",
      "source": [
        "Я считаю, что здесь стоит применить метрику NPV, так как с помощью данной метрики можно оценить оба способа продажи, далее мы сравнивавем и получаем результат о выгоде от продаж."
      ],
      "metadata": {
        "id": "UWrblrUu_El0"
      },
      "id": "UWrblrUu_El0"
    },
    {
      "cell_type": "markdown",
      "id": "e36b594c",
      "metadata": {
        "id": "e36b594c"
      },
      "source": [
        "### 2. Альтернатива в критерии."
      ]
    },
    {
      "cell_type": "markdown",
      "source": [
        "Будем использовать одностороннюю альтернативу, так как нам нужно определить только разницу в прибыли, также мы уменьшаем вероятность ложноположительных результатов."
      ],
      "metadata": {
        "id": "K9VNLn6A_Hy4"
      },
      "id": "K9VNLn6A_Hy4"
    },
    {
      "cell_type": "markdown",
      "id": "692b97f3",
      "metadata": {
        "id": "692b97f3"
      },
      "source": [
        "### 3. Нужно выбрать параметр(-ы), влияющий(-ие) на целевую метрику. Привести аргументацию."
      ]
    },
    {
      "cell_type": "markdown",
      "source": [
        "Найдем самый влияющий на целевую метрику параметр, будем выбирать из доступных до заявки человека, корреляция Спирмена подойдёт."
      ],
      "metadata": {
        "id": "bEdT0UXq_Op5"
      },
      "id": "bEdT0UXq_Op5"
    },
    {
      "cell_type": "code",
      "source": [
        "print(\n",
        "    df.NPV.corr(data['Возраст'],method='spearman'), \n",
        "    df.NPV.corr(data['Флаг утилизации счёта'],method='spearman'), \n",
        "    df.NPV.corr(data['Вероятность банкротства'], method='spearman'))"
      ],
      "metadata": {
        "id": "mtm6m6lZBc9M",
        "outputId": "382afefa-8e21-43a1-90b9-cbb2c0c0d468",
        "colab": {
          "base_uri": "https://localhost:8080/"
        }
      },
      "id": "mtm6m6lZBc9M",
      "execution_count": 66,
      "outputs": [
        {
          "output_type": "stream",
          "name": "stdout",
          "text": [
            "0.006404489801010866 0.7582683550341586 -0.15008798233638915\n"
          ]
        }
      ]
    },
    {
      "cell_type": "markdown",
      "source": [
        "Выбираем флаг утилизации счёта"
      ],
      "metadata": {
        "id": "HW_L10r5Ia9J"
      },
      "id": "HW_L10r5Ia9J"
    },
    {
      "cell_type": "markdown",
      "id": "9b40ecbb",
      "metadata": {
        "id": "9b40ecbb"
      },
      "source": [
        "### 4.1. Каков размер выборки? Привести аргументацию и написать как получилось то или иное число."
      ]
    },
    {
      "cell_type": "markdown",
      "source": [
        "Формула для односторонней альтернативы представлена ниже"
      ],
      "metadata": {
        "id": "I3aKUnoN_msk"
      },
      "id": "I3aKUnoN_msk"
    },
    {
      "cell_type": "markdown",
      "source": [
        "![Screenshot_1.png](data:image/png;base64,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)"
      ],
      "metadata": {
        "id": "1DmKH0ab_pn-"
      },
      "id": "1DmKH0ab_pn-"
    },
    {
      "cell_type": "markdown",
      "source": [
        "сиигма квадрат - выборочная дисперсия\n",
        "\n",
        "z - квантиль распределения\n",
        "\n",
        "d - MDE"
      ],
      "metadata": {
        "id": "l2pHgL-v_ljh"
      },
      "id": "l2pHgL-v_ljh"
    },
    {
      "cell_type": "markdown",
      "id": "b13ea8ee",
      "metadata": {
        "id": "b13ea8ee"
      },
      "source": [
        "### 4.2. Необходимо запросить у бота в Телеграме выборку полученного размера командой `/get_project2_sample {размер выборки}` и вписать <ins>код выборки</ins>: 5471"
      ]
    },
    {
      "cell_type": "code",
      "source": [
        "import pandas as pd\n",
        "from scipy import stats\n",
        "import seaborn as sns\n",
        "\n",
        "data = pd.read_csv('hist_credit_card.csv')\n",
        "mde = 0.03 * data.NPV.mean()\n",
        "n = (2 * data.NPV.var() * (stats.norm.ppf(0.95) - stats.norm.ppf(0.15))**2) / (0.03 * data.NPV.mean()) ** 2 "
      ],
      "metadata": {
        "id": "F5c-oqIBjVJS"
      },
      "id": "F5c-oqIBjVJS",
      "execution_count": 65,
      "outputs": []
    },
    {
      "cell_type": "code",
      "source": [
        " int(n + (0.5 if n > 0 else -0.5))"
      ],
      "metadata": {
        "id": "mqgYp9ZiDEp4",
        "outputId": "b99c85b0-6a25-4a0b-9b0c-8d14124cee41",
        "colab": {
          "base_uri": "https://localhost:8080/"
        }
      },
      "id": "mqgYp9ZiDEp4",
      "execution_count": 67,
      "outputs": [
        {
          "output_type": "execute_result",
          "data": {
            "text/plain": [
              "103221"
            ]
          },
          "metadata": {},
          "execution_count": 67
        }
      ]
    },
    {
      "cell_type": "markdown",
      "id": "f6945c8f",
      "metadata": {
        "id": "f6945c8f"
      },
      "source": [
        "### 5. Проверка на однородность, применение критерия. Принятие решения. Расписать подробно с аргументами."
      ]
    },
    {
      "cell_type": "code",
      "source": [
        "control = pd.read_csv('control_2.csv')\n",
        "test = pd.read_csv('test_2.csv')\n",
        "\n",
        "sns.histplot(data=control,x=control['Флаг утилизации счёта'])\n",
        "sns.histplot(data=test,x=test['Флаг утилизации счёта'])"
      ],
      "metadata": {
        "id": "LVlEnA4DjWp5",
        "outputId": "b75e1e26-3191-466f-fb83-7d3ff86b6752",
        "colab": {
          "base_uri": "https://localhost:8080/",
          "height": 468
        }
      },
      "id": "LVlEnA4DjWp5",
      "execution_count": 68,
      "outputs": [
        {
          "output_type": "execute_result",
          "data": {
            "text/plain": [
              "<Axes: xlabel='Флаг утилизации счёта', ylabel='Count'>"
            ]
          },
          "metadata": {},
          "execution_count": 68
        },
        {
          "output_type": "display_data",
          "data": {
            "text/plain": [
              "<Figure size 640x480 with 1 Axes>"
            ],
            "image/png": "[encoded data removed]"
          },
          "metadata": {}
        }
      ]
    },
    {
      "cell_type": "markdown",
      "source": [
        "Так как распределения примерно равны, то проведем тест Андерсона-Дарлинга"
      ],
      "metadata": {
        "id": "DU09ZZBzOcEE"
      },
      "id": "DU09ZZBzOcEE"
    },
    {
      "cell_type": "code",
      "source": [
        "from scipy.stats import anderson_ksamp\n",
        "\n",
        "x = control['Флаг утилизации счёта'].values\n",
        "y = test['Флаг утилизации счёта'].values\n",
        "\n",
        "value = anderson_ksamp([x, y]).significance_level\n",
        "\n",
        "if value < 0.02:\n",
        "  print('Выборки не имеют разное распределение')\n",
        "else:\n",
        "  print('Выборки имеют разное распределение')"
      ],
      "metadata": {
        "id": "ysZEV_yAP9Bp",
        "outputId": "5cdb92b5-4816-402c-ea95-1c61f97033eb",
        "colab": {
          "base_uri": "https://localhost:8080/"
        }
      },
      "id": "ysZEV_yAP9Bp",
      "execution_count": 69,
      "outputs": [
        {
          "output_type": "stream",
          "name": "stdout",
          "text": [
            "Выборки не имеют разное распределение\n"
          ]
        },
        {
          "output_type": "stream",
          "name": "stderr",
          "text": [
            "<ipython-input-69-767709e63d56>:6: UserWarning: p-value floored: true value smaller than 0.001\n",
            "  value = anderson_ksamp([x, y]).significance_level\n"
          ]
        }
      ]
    },
    {
      "cell_type": "markdown",
      "source": [
        "Из вышенаписанного следует, что выборки однородны"
      ],
      "metadata": {
        "id": "i-TommHyP9Rh"
      },
      "id": "i-TommHyP9Rh"
    },
    {
      "cell_type": "code",
      "source": [
        "control_mean = []\n",
        "test_mean = []\n",
        "\n",
        "for i in range(10000):\n",
        "    control_0 = control.NPV.sample(frac=1, replace=True)\n",
        "    test_0 = test.NPV.sample(frac=1, replace=True)\n",
        "    control_mean.append(control_0.mean())\n",
        "    test_mean.append(test_0.mean())\n",
        "    \n",
        "sns.histplot(control_mean)\n",
        "sns.histplot(test_mean, color = 'green')"
      ],
      "metadata": {
        "id": "81HLZjCuRFTO",
        "outputId": "24610970-c030-41ad-981b-a8587561e113",
        "colab": {
          "base_uri": "https://localhost:8080/",
          "height": 447
        }
      },
      "id": "81HLZjCuRFTO",
      "execution_count": 73,
      "outputs": [
        {
          "output_type": "execute_result",
          "data": {
            "text/plain": [
              "<Axes: ylabel='Count'>"
            ]
          },
          "metadata": {},
          "execution_count": 73
        },
        {
          "output_type": "display_data",
          "data": {
            "text/plain": [
              "<Figure size 640x480 with 1 Axes>"
            ],
            "image/png": "[encoded data removed]"
          },
          "metadata": {}
        }
      ]
    },
    {
      "cell_type": "markdown",
      "source": [
        "На графике четко видно отклонение распределения тестовой выборки влево, что говорит нам о возможном снижении дохода, но это следует проверить t-тестом"
      ],
      "metadata": {
        "id": "v6KdSNYjULSJ"
      },
      "id": "v6KdSNYjULSJ"
    },
    {
      "cell_type": "code",
      "source": [
        "value = stats.ttest_ind(control.NPV, test.NPV)[1]\n",
        "if value < 0.05: \n",
        "  print('Новый способ успешен')\n",
        "else: \n",
        "  print('Новый способ не принес увеличения доходности')"
      ],
      "metadata": {
        "id": "kOE24FdKOoBj",
        "outputId": "4fb1b966-846e-456d-c80f-1536b5f3b872",
        "colab": {
          "base_uri": "https://localhost:8080/"
        }
      },
      "id": "kOE24FdKOoBj",
      "execution_count": 72,
      "outputs": [
        {
          "output_type": "stream",
          "name": "stdout",
          "text": [
            "Новый способ не принес увеличения доходности\n"
          ]
        }
      ]
    },
    {
      "cell_type": "markdown",
      "source": [
        "Как итог, можно сказать, что новая агрессивная кампания по продаже не принесла роста доходности\n"
      ],
      "metadata": {
        "id": "2teSBoixVc3e"
      },
      "id": "2teSBoixVc3e"
    }
  ],
  "metadata": {
    "kernelspec": {
      "display_name": "Python 3 (ipykernel)",
      "language": "python",
      "name": "python3"
    },
    "language_info": {
      "codemirror_mode": {
        "name": "ipython",
        "version": 3
      },
      "file_extension": ".py",
      "mimetype": "text/x-python",
      "name": "python",
      "nbconvert_exporter": "python",
      "pygments_lexer": "ipython3",
      "version": "3.9.7"
    },
    "colab": {
      "provenance": [],
      "include_colab_link": true
    }
  },
  "nbformat": 4,
  "nbformat_minor": 5
}